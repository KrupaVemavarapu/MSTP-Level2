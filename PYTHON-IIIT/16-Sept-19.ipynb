{
 "cells": [
  {
   "cell_type": "markdown",
   "metadata": {},
   "source": [
    "# Regular Expression\n",
    "/*Syntax:import re*/\n",
    "## Methods in Regular Expression\n",
    "- re.findall()\n",
    "- re.search()\n",
    "- re.match()\n",
    "- re.sub()\n",
    "- re.finditer()"
   ]
  },
  {
   "cell_type": "markdown",
   "metadata": {},
   "source": [
    "- set \"[_]\" --> we can insert set of or group of chars,numbers etc.\n",
    "- caret \" ^g\" --> starts with the given letter\n",
    "- Doller \" $ \" --> Ends with the given letter\n",
    "- star \" * \" --> zero  or more occurance\n",
    "- plus \"+\" --> one or more occurance\n",
    "- { } --> Exactly the specefied no.of occurance\n",
    "- \"|\" --> or\n",
    "- \"\\\" --> special sequence\n",
    "-A period\" . \" --> represents a character"
   ]
  },
  {
   "cell_type": "markdown",
   "metadata": {},
   "source": [
    "### Special sequence  \"\\\"\n",
    "- \\A --> character is a begining of string\n",
    "- \\b --> character is at being,ending,middle of the string\n",
    "- \\d --> any digit\n",
    "- \\D --> non-digit\n",
    "- \\s --> it will detect the space\n",
    "- \\S --> except space it will detect all the things means chars,digits,specials\n",
    "- \\w --> alphanumeric\n",
    "- \\W --> non-alphanumeric(Ex:!@#$%^...)\n",
    "                          "
   ]
  },
  {
   "cell_type": "code",
   "execution_count": 6,
   "metadata": {},
   "outputs": [
    {
     "name": "stdout",
     "output_type": "stream",
     "text": [
      "['h', 'e', 'h', 'g', 'a', 'i', 'g', 'l', 'a', 'g', 'a', 'g', 'e']\n"
     ]
    }
   ],
   "source": [
    "import re\n",
    "# write a program to find the characters between \"a\" and \"l\"\n",
    "string=\"the python programming language\"\n",
    "str2=re.findall(\"[a-ll]\",string)\n",
    "print(str2)"
   ]
  },
  {
   "cell_type": "code",
   "execution_count": 12,
   "metadata": {},
   "outputs": [
    {
     "name": "stdout",
     "output_type": "stream",
     "text": [
      "['T', 'h', 'e', ' ', 'c', 'o', 's', 't', ' ', 'o', 'f', ' ', ' ', 'a', 'p', 'p', 'l', 'e', 's', ' ', 'a', 'r', 'e', ' ', ' ', 'R', 's']\n",
      "['6', '1', '0', '0']\n"
     ]
    }
   ],
   "source": [
    "# Write a program to find the digits in a given string\n",
    "import re\n",
    "string=\"The cost of 6 apples are 100 Rs\"\n",
    "str2=re.findall(\"\\D\",string)\n",
    "str3=re.findall(\"\\d\",string)\n",
    "print(str2)\n",
    "print(str3)"
   ]
  },
  {
   "cell_type": "code",
   "execution_count": 13,
   "metadata": {},
   "outputs": [
    {
     "name": "stdout",
     "output_type": "stream",
     "text": [
      "[' ', ' ', ' ', ' ', ' ', ' ', ' ']\n",
      "['T', 'h', 'e', 'c', 'o', 's', 't', 'o', 'f', '6', 'a', 'p', 'p', 'l', 'e', 's', 'a', 'r', 'e', '1', '0', '0', 'R', 's']\n"
     ]
    }
   ],
   "source": [
    "\n",
    "import re\n",
    "string=\"The cost of 6 apples are 100 Rs\"\n",
    "str2=re.findall(\"\\s\",string)\n",
    "str3=re.findall(\"\\S\",string)\n",
    "print(str2)\n",
    "print(str3)"
   ]
  },
  {
   "cell_type": "code",
   "execution_count": 14,
   "metadata": {},
   "outputs": [
    {
     "name": "stdout",
     "output_type": "stream",
     "text": [
      "['T', 'h', 'e', 'c', 'o', 's', 't', 'o', 'f', '6', 'a', 'p', 'p', 'l', 'e', 's', 'a', 'r', 'e', '1', '0', '0', 'R', 's']\n",
      "[' ', ' ', ' ', ' ', ' ', ' ', ' ']\n"
     ]
    }
   ],
   "source": [
    "import re\n",
    "string=\"The cost of 6 apples are 100 Rs\"\n",
    "str2=re.findall(\"\\w\",string)\n",
    "str3=re.findall(\"\\W\",string)\n",
    "print(str2)\n",
    "print(str3)"
   ]
  },
  {
   "cell_type": "code",
   "execution_count": 22,
   "metadata": {},
   "outputs": [
    {
     "name": "stdout",
     "output_type": "stream",
     "text": [
      "['Progr']\n"
     ]
    }
   ],
   "source": [
    "# Take a string which contains more than 8 characters,print 5 character in that string\n",
    "import re\n",
    "string=\"Programming\"\n",
    "str2=re.findall('P....',string)\n",
    "print(str2)"
   ]
  },
  {
   "cell_type": "code",
   "execution_count": 26,
   "metadata": {},
   "outputs": [
    {
     "name": "stdout",
     "output_type": "stream",
     "text": [
      "3713571342\n"
     ]
    },
    {
     "data": {
      "text/plain": [
       "False"
      ]
     },
     "execution_count": 26,
     "metadata": {},
     "output_type": "execute_result"
    }
   ],
   "source": [
    "#Phone number validator using re.match() method\n",
    "import re\n",
    "def phoneNumValidator(number):\n",
    "    p='[6-9][0-9]{9}|[+][9][1][6-9][0-9]{9}'\n",
    "    if re.match(p,str(number)):\n",
    "        return True\n",
    "    else:\n",
    "        return False\n",
    "number=int(input())\n",
    "phoneNumValidator(number)"
   ]
  },
  {
   "cell_type": "code",
   "execution_count": 29,
   "metadata": {},
   "outputs": [
    {
     "name": "stdout",
     "output_type": "stream",
     "text": [
      ":Python:Programming:language:and:Raptor:Flowchart\n"
     ]
    }
   ],
   "source": [
    "#re.sub() method\n",
    "#.syntax:re.sub(\"value to be remove\",\" value to be added\",variable)\n",
    "#write a program to replace white space with colon\n",
    "import re\n",
    "string=\" Python Programming language and Raptor Flowchart\"\n",
    "s2=re.sub('\\s',':',string)\n",
    "print(s2)"
   ]
  },
  {
   "cell_type": "code",
   "execution_count": 30,
   "metadata": {},
   "outputs": [
    {
     "name": "stdout",
     "output_type": "stream",
     "text": [
      "PythonProgramminglanguageandRaptorFlowchart\n"
     ]
    }
   ],
   "source": [
    "import re\n",
    "string=\" Python Programming language and Raptor Flowchart\"\n",
    "s2=re.sub('\\s','',string)\n",
    "print(s2)"
   ]
  },
  {
   "cell_type": "code",
   "execution_count": 44,
   "metadata": {},
   "outputs": [
    {
     "name": "stdout",
     "output_type": "stream",
     "text": [
      "enter emailn140517@rguktn.ac.in\n",
      "True\n"
     ]
    }
   ],
   "source": [
    "#[a-z][0.]{5,15}[@][a-z0-9]{3,8}.[a-z]{2,4}\n",
    "import re\n",
    "s=input(\"enter email\")\n",
    "p='[a-z][a-z0-9.]{5,15}[@][a-z 0-9]{3,8}([.][a-z]{2,4})|([.][a-z]{2,3}[.][a-z]{2,3})'\n",
    "if(re.match(p,s)):\n",
    "    print('True')\n",
    "else:\n",
    "    print('False')"
   ]
  },
  {
   "cell_type": "code",
   "execution_count": null,
   "metadata": {},
   "outputs": [],
   "source": []
  }
 ],
 "metadata": {
  "kernelspec": {
   "display_name": "Python 3",
   "language": "python",
   "name": "python3"
  },
  "language_info": {
   "codemirror_mode": {
    "name": "ipython",
    "version": 3
   },
   "file_extension": ".py",
   "mimetype": "text/x-python",
   "name": "python",
   "nbconvert_exporter": "python",
   "pygments_lexer": "ipython3",
   "version": "3.7.3"
  }
 },
 "nbformat": 4,
 "nbformat_minor": 2
}
