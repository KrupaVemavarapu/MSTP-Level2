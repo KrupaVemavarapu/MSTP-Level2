{
 "cells": [
  {
   "cell_type": "markdown",
   "metadata": {},
   "source": [
    "# CONDITIONAL STATEMENTS"
   ]
  },
  {
   "cell_type": "markdown",
   "metadata": {},
   "source": [
    "### 1.If statement:\n",
    "### If the given condition is True then the statements inside the body of \"if\" execute.\n",
    "### If the given condition is false,it doesn't go to the if body."
   ]
  },
  {
   "cell_type": "code",
   "execution_count": 7,
   "metadata": {},
   "outputs": [
    {
     "name": "stdout",
     "output_type": "stream",
     "text": [
      "enter marks:90\n"
     ]
    }
   ],
   "source": [
    "marks=int(input(\"enter marks:\"))\n",
    "passed=50\n",
    "distinction=90"
   ]
  },
  {
   "cell_type": "code",
   "execution_count": 10,
   "metadata": {},
   "outputs": [
    {
     "name": "stdout",
     "output_type": "stream",
     "text": [
      "You are Topper\n"
     ]
    }
   ],
   "source": [
    "if marks >=distinction:\n",
    "    print(\"You are Topper\")\n",
    "if marks>=passed and marks<distinction:\n",
    "    print(\"You are average student\")\n",
    "if marks<passed:\n",
    "    print(\"You are not topper\")"
   ]
  },
  {
   "cell_type": "code",
   "execution_count": 18,
   "metadata": {},
   "outputs": [
    {
     "name": "stdout",
     "output_type": "stream",
     "text": [
      "enter a statementi know it is bad\n",
      "bad review\n"
     ]
    }
   ],
   "source": [
    "statement=input(\"enter a statement\")\n",
    "if 'bad' in statement:\n",
    "    print(\"bad review\")"
   ]
  },
  {
   "cell_type": "code",
   "execution_count": 17,
   "metadata": {},
   "outputs": [
    {
     "data": {
      "text/plain": [
       "False"
      ]
     },
     "execution_count": 17,
     "metadata": {},
     "output_type": "execute_result"
    }
   ],
   "source": [
    "'z' in \"hello\""
   ]
  },
  {
   "cell_type": "markdown",
   "metadata": {},
   "source": [
    "### 2. if else statement"
   ]
  },
  {
   "cell_type": "code",
   "execution_count": 19,
   "metadata": {},
   "outputs": [
    {
     "name": "stdout",
     "output_type": "stream",
     "text": [
      "False\n"
     ]
    }
   ],
   "source": [
    "if None:\n",
    "    print(\"True\")\n",
    "else:\n",
    "    print(\"False\")"
   ]
  },
  {
   "cell_type": "markdown",
   "metadata": {},
   "source": [
    "### Even odd"
   ]
  },
  {
   "cell_type": "code",
   "execution_count": 21,
   "metadata": {},
   "outputs": [
    {
     "name": "stdout",
     "output_type": "stream",
     "text": [
      "enter number4\n",
      "even\n"
     ]
    }
   ],
   "source": [
    "n=int(input(\"enter number\"))\n",
    "if(n%2==0):\n",
    "    print(\"even\")\n",
    "else:\n",
    "    print(\"odd\")"
   ]
  },
  {
   "cell_type": "markdown",
   "metadata": {},
   "source": [
    "## print even number which is divisible by 4 if it is odd which is divisible by 3 "
   ]
  },
  {
   "cell_type": "code",
   "execution_count": 31,
   "metadata": {},
   "outputs": [
    {
     "name": "stdout",
     "output_type": "stream",
     "text": [
      "enter number4\n",
      "even\n",
      "divisible by 4\n"
     ]
    }
   ],
   "source": [
    "n=int(input(\"enter number\"))\n",
    "if(n%2==0):\n",
    "    print(\"even\")\n",
    "    if(n%4==0):\n",
    "        print(\"divisible by 4\")\n",
    "    else:\n",
    "        print(\"not divisible by 4\")\n",
    "else:\n",
    "    print(\"odd\")\n",
    "    if(n%3==0):\n",
    "        print(\"divisible by 3\")\n",
    "    else:\n",
    "        print(\"not divisible by 3\")"
   ]
  },
  {
   "cell_type": "markdown",
   "metadata": {},
   "source": [
    "### check if an year is leap year or not."
   ]
  },
  {
   "cell_type": "code",
   "execution_count": 1,
   "metadata": {},
   "outputs": [
    {
     "name": "stdout",
     "output_type": "stream",
     "text": [
      "enter a number50\n",
      "Not a leap year\n"
     ]
    }
   ],
   "source": [
    "year=int(input(\"enter a number\"))\n",
    "if((year%4==0 and year%100!=0) or (year%400==0)):\n",
    "    print(\"leap year\")\n",
    "else:\n",
    "    print(\"Not a leap year\")"
   ]
  },
  {
   "cell_type": "code",
   "execution_count": 3,
   "metadata": {},
   "outputs": [
    {
     "name": "stdout",
     "output_type": "stream",
     "text": [
      "enter a  number60\n",
      "number is in given range\n"
     ]
    }
   ],
   "source": [
    "# check if a number exist in the given range\n",
    "lp=50\n",
    "up=100\n",
    "num=int(input(\"enter a  number\"))\n",
    "if  num>=lp and num<=up:\n",
    "    print(\"number is in given range\")\n",
    "else:\n",
    "    print(\"number is not in given range\")"
   ]
  },
  {
   "cell_type": "code",
   "execution_count": 6,
   "metadata": {},
   "outputs": [
    {
     "name": "stdout",
     "output_type": "stream",
     "text": [
      "enter a  number55\n",
      "not a multiple of 10\n"
     ]
    }
   ],
   "source": [
    "#check if a number is multiple of 10\n",
    "num=int(input(\"enter a  number\"))\n",
    "if(num%10==0):\n",
    "    print(\"multiple of 10\")\n",
    "else:\n",
    "    print(\"not a multiple of 10\")"
   ]
  },
  {
   "cell_type": "code",
   "execution_count": 10,
   "metadata": {},
   "outputs": [
    {
     "name": "stdout",
     "output_type": "stream",
     "text": [
      "enter a  number67\n",
      "not a factor\n"
     ]
    }
   ],
   "source": [
    "#CHECK IF A NUMBER IS A FACTOR OF 100.\n",
    "num=int(input(\"enter a  number\"))\n",
    "if 100%num==0:\n",
    "    print(\"factor\")\n",
    "else:\n",
    "    print(\"not a factor\")"
   ]
  },
  {
   "cell_type": "code",
   "execution_count": 1,
   "metadata": {},
   "outputs": [
    {
     "name": "stdout",
     "output_type": "stream",
     "text": [
      "enter a number45\n",
      "enter a string45\n",
      "equal\n"
     ]
    }
   ],
   "source": [
    "#check if given string is equal to a number\n",
    "num=int(input(\"enter a number\"))\n",
    "st=input(\"enter a string\")\n",
    "if int(st)==num:\n",
    "    print(\"equal\")\n",
    "else:\n",
    "    print(\"not equal\")"
   ]
  },
  {
   "cell_type": "code",
   "execution_count": 3,
   "metadata": {},
   "outputs": [
    {
     "name": "stdout",
     "output_type": "stream",
     "text": [
      "enter a number2016\n",
      "leap year\n",
      "31622400000000000\n"
     ]
    }
   ],
   "source": [
    "#calculate the number of nano seconds in a given year(Consider leap year logic)\n",
    "year=int(input(\"enter a number\"))\n",
    "if((year%4==0 and year%100!=0) or (year%400==0)):\n",
    "    print(\"leap year\")\n",
    "    print(366*24*60*60*(10**9))\n",
    "else:\n",
    "    print(\"Not a leap year\")\n",
    "    print(365*24*60*60*(10**9))"
   ]
  },
  {
   "cell_type": "markdown",
   "metadata": {},
   "source": [
    "### 3.Elif statement"
   ]
  },
  {
   "cell_type": "code",
   "execution_count": 10,
   "metadata": {},
   "outputs": [
    {
     "name": "stdout",
     "output_type": "stream",
     "text": [
      "enter a number1: 1\n",
      "enter a number2: 5\n",
      "enter a number3: 3\n",
      "5 is greatest number\n"
     ]
    }
   ],
   "source": [
    "#find the greatest of 3 numbers\n",
    "n1=int(input(\"enter a number1: \"))\n",
    "n2=int(input(\"enter a number2: \"))\n",
    "n3=int(input(\"enter a number3: \"))\n",
    "if(n1>n2 and n1>n3):\n",
    "    print(n1, \"is greatest number\")\n",
    "elif(n2>n1 and n2>n3):\n",
    "    print(n2,\"is greatest number\")   \n",
    "else:\n",
    "    print(n3, \"is greatest number\")"
   ]
  },
  {
   "cell_type": "code",
   "execution_count": 14,
   "metadata": {},
   "outputs": [
    {
     "name": "stdout",
     "output_type": "stream",
     "text": [
      "enter marks:67\n",
      "second class\n"
     ]
    }
   ],
   "source": [
    "marks=int(input(\"enter marks:\"))\n",
    "if(marks>=90):\n",
    "    print(\"distinction\")\n",
    "elif marks<90 and marks>=80:\n",
    "    print(\"first class\")\n",
    "elif marks<80 and marks>=65:\n",
    "    print(\"second class\")\n",
    "elif marks>=50 and marks<65:\n",
    "    print(\"just pass\")\n",
    "else:\n",
    "    print(\"failed\")"
   ]
  },
  {
   "cell_type": "code",
   "execution_count": 9,
   "metadata": {},
   "outputs": [
    {
     "name": "stdout",
     "output_type": "stream",
     "text": [
      "enter a number7\n",
      "positive\n"
     ]
    }
   ],
   "source": [
    "#take an input from keyboard.Check the number is positive or negative or zero display\n",
    "num=int(input(\"enter a number\"))\n",
    "if(num>=0):\n",
    "    if(num==0):\n",
    "        print(\"zero\")\n",
    "    else:\n",
    "        print(\"positive\")\n",
    "else:\n",
    "    print(\"negative\")"
   ]
  },
  {
   "cell_type": "markdown",
   "metadata": {},
   "source": [
    "## Recursive function\n",
    "> A function call itself"
   ]
  },
  {
   "cell_type": "code",
   "execution_count": null,
   "metadata": {},
   "outputs": [],
   "source": []
  }
 ],
 "metadata": {
  "kernelspec": {
   "display_name": "Python 3",
   "language": "python",
   "name": "python3"
  },
  "language_info": {
   "codemirror_mode": {
    "name": "ipython",
    "version": 3
   },
   "file_extension": ".py",
   "mimetype": "text/x-python",
   "name": "python",
   "nbconvert_exporter": "python",
   "pygments_lexer": "ipython3",
   "version": "3.7.3"
  }
 },
 "nbformat": 4,
 "nbformat_minor": 2
}
