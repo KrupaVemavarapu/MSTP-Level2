{
 "cells": [
  {
   "cell_type": "code",
   "execution_count": 8,
   "metadata": {},
   "outputs": [
    {
     "name": "stdout",
     "output_type": "stream",
     "text": [
      "enter a stringkrupa\n",
      "reverse of String is: apurk\n"
     ]
    }
   ],
   "source": [
    "#Reverse the string \n",
    "def reverseString():\n",
    "    s=input(\"enter a string\")\n",
    "    print(\"reverse of String is:\",s[::-1])\n",
    "reverseString()"
   ]
  },
  {
   "cell_type": "code",
   "execution_count": null,
   "metadata": {},
   "outputs": [],
   "source": [
    "#addition of two numbers\n",
    "def add():\n",
    "    a=int(input(\"enter a number\"))\n",
    "    b=int(input(\"enter a number\"))\n",
    "    c=a+b\n",
    "    return c\n",
    "add()"
   ]
  },
  {
   "cell_type": "code",
   "execution_count": 15,
   "metadata": {},
   "outputs": [
    {
     "name": "stdout",
     "output_type": "stream",
     "text": [
      "enter a number5\n"
     ]
    },
    {
     "data": {
      "text/plain": [
       "120"
      ]
     },
     "execution_count": 15,
     "metadata": {},
     "output_type": "execute_result"
    }
   ],
   "source": [
    "#factorial\n",
    "def factorial():\n",
    "    a=int(input(\"enter a number\"))\n",
    "    fact=1\n",
    "    if(a<0):\n",
    "        print(\"sorry please enter positive number\")\n",
    "    elif(a==0):\n",
    "        fact=1\n",
    "    else:\n",
    "        for i in range(1,a+1):\n",
    "            fact=fact*i\n",
    "        return fact\n",
    "factorial()"
   ]
  },
  {
   "cell_type": "code",
   "execution_count": null,
   "metadata": {},
   "outputs": [],
   "source": [
    "#Square of a number\n",
    "def add():\n",
    "    a=int(input(\"enter a number\"))\n",
    "    c=a*a\n",
    "    return c\n",
    "add()"
   ]
  },
  {
   "cell_type": "code",
   "execution_count": 12,
   "metadata": {},
   "outputs": [
    {
     "name": "stdout",
     "output_type": "stream",
     "text": [
      "enter a number: 5728\n"
     ]
    },
    {
     "data": {
      "text/plain": [
       "4"
      ]
     },
     "execution_count": 12,
     "metadata": {},
     "output_type": "execute_result"
    }
   ],
   "source": [
    "#count of digit\n",
    "def count():\n",
    "    a=input(\"enter a number: \")\n",
    "    return len(a)\n",
    "count()"
   ]
  },
  {
   "cell_type": "code",
   "execution_count": 31,
   "metadata": {},
   "outputs": [
    {
     "name": "stdout",
     "output_type": "stream",
     "text": [
      "enter a string to check palindrome or notmanasa\n",
      "Not a palindrome\n"
     ]
    }
   ],
   "source": [
    "#Palindrome\n",
    "from collections import Counter\n",
    "def Palindrome():\n",
    "    p=input(\"enter a string to check palindrome or not\")\n",
    "    s=p[::-1]\n",
    "    set1=set(s.split(' '))\n",
    "    set2=set(p.split(' '))\n",
    "    if(set1==set2):\n",
    "        print(\"Palindrome\")\n",
    "    else:\n",
    "        print(\"Not a palindrome\")\n",
    "Palindrome()"
   ]
  },
  {
   "cell_type": "markdown",
   "metadata": {},
   "source": [
    "# Functions"
   ]
  },
  {
   "cell_type": "markdown",
   "metadata": {},
   "source": [
    "## Types of Functions"
   ]
  },
  {
   "cell_type": "code",
   "execution_count": 6,
   "metadata": {},
   "outputs": [
    {
     "name": "stdout",
     "output_type": "stream",
     "text": [
      "Without arguments and without return value: 11\n"
     ]
    }
   ],
   "source": [
    "1.#1.Without arguments and without return value\n",
    "def mul():\n",
    "    a=6\n",
    "    b=5\n",
    "    print(\"Without arguments and without return value:\",a+b)\n",
    "mul()"
   ]
  },
  {
   "cell_type": "code",
   "execution_count": 4,
   "metadata": {},
   "outputs": [
    {
     "data": {
      "text/plain": [
       "11"
      ]
     },
     "execution_count": 4,
     "metadata": {},
     "output_type": "execute_result"
    }
   ],
   "source": [
    "#2.Without arguments and with return value\n",
    "def mul():\n",
    "    a=5\n",
    "    b=6\n",
    "    c=a+b\n",
    "    return c\n",
    "mul()"
   ]
  },
  {
   "cell_type": "code",
   "execution_count": 2,
   "metadata": {},
   "outputs": [
    {
     "name": "stdout",
     "output_type": "stream",
     "text": [
      "with arguments and wothout return value 20\n"
     ]
    }
   ],
   "source": [
    "#3.With arguments and without return value\n",
    "def mul(a,b):\n",
    "    m=a*b\n",
    "    print(\"with arguments and wothout return value\",m)\n",
    "mul(4,5)"
   ]
  },
  {
   "cell_type": "code",
   "execution_count": 3,
   "metadata": {},
   "outputs": [
    {
     "data": {
      "text/plain": [
       "9"
      ]
     },
     "execution_count": 3,
     "metadata": {},
     "output_type": "execute_result"
    }
   ],
   "source": [
    "#4.WIth arguments and with return value\n",
    "def add(a,b):\n",
    "    c=a+b\n",
    "    return c\n",
    "add(4,5)"
   ]
  },
  {
   "cell_type": "markdown",
   "metadata": {},
   "source": [
    "### Task"
   ]
  },
  {
   "cell_type": "code",
   "execution_count": 2,
   "metadata": {},
   "outputs": [
    {
     "name": "stdout",
     "output_type": "stream",
     "text": [
      "enter lower bound1\n",
      "enter upper bound100\n"
     ]
    },
    {
     "data": {
      "text/plain": [
       "6"
      ]
     },
     "execution_count": 2,
     "metadata": {},
     "output_type": "execute_result"
    }
   ],
   "source": [
    "#1.Function to print all numbers divisible by 6 and not a factor of 100 in a given range(lb,ub) inclusive.\n",
    "def divisibility():\n",
    "    lb=int(input(\"enter lower bound\"))\n",
    "    ub=int(input(\"enter upper bound\"))\n",
    "    for i in range(lb,ub):\n",
    "        if(i%6==0 and i%100!=0):\n",
    "            return i\n",
    "divisibility()"
   ]
  },
  {
   "cell_type": "code",
   "execution_count": null,
   "metadata": {},
   "outputs": [],
   "source": []
  }
 ],
 "metadata": {
  "kernelspec": {
   "display_name": "Python 3",
   "language": "python",
   "name": "python3"
  },
  "language_info": {
   "codemirror_mode": {
    "name": "ipython",
    "version": 3
   },
   "file_extension": ".py",
   "mimetype": "text/x-python",
   "name": "python",
   "nbconvert_exporter": "python",
   "pygments_lexer": "ipython3",
   "version": "3.7.3"
  }
 },
 "nbformat": 4,
 "nbformat_minor": 2
}
