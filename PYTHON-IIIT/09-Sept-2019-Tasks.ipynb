{
 "cells": [
  {
   "cell_type": "code",
   "execution_count": 1,
   "metadata": {},
   "outputs": [
    {
     "name": "stdout",
     "output_type": "stream",
     "text": [
      "enter a number2019\n",
      "Nota leap year\n"
     ]
    }
   ],
   "source": [
    "#1.Check the given year is leap year or not.\n",
    "year=int(input(\"enter a number\"))\n",
    "def leap(year):\n",
    "    if((year%4==0 and year%100!=0) or (year%400==0)):\n",
    "        print(\"leap year\")\n",
    "    else:\n",
    "        print(\"Not a leap year\")\n",
    "leap(year)"
   ]
  },
  {
   "cell_type": "code",
   "execution_count": 4,
   "metadata": {},
   "outputs": [
    {
     "name": "stdout",
     "output_type": "stream",
     "text": [
      "enter lower bound1\n",
      "enter upper bound50\n",
      "enter a  number60\n",
      "number is not in given range\n"
     ]
    }
   ],
   "source": [
    "#2.Check if the number exist in a given range(inputs:number(n),range(lower bound and upper bound))\n",
    "lp=int(input(\"enter lower bound\"))\n",
    "up=int(input(\"enter upper bound\"))\n",
    "num=int(input(\"enter a  number\"))\n",
    "def numrange(lp,up,num):\n",
    "    if  num>=lp and num<=up:\n",
    "        print(\"number is in given range\")\n",
    "    else:\n",
    "        print(\"number is not in given range\")\n",
    "numrange(lp,up,num)"
   ]
  },
  {
   "cell_type": "code",
   "execution_count": 9,
   "metadata": {},
   "outputs": [
    {
     "name": "stdout",
     "output_type": "stream",
     "text": [
      "enter a number5\n"
     ]
    },
    {
     "data": {
      "text/plain": [
       "120"
      ]
     },
     "execution_count": 9,
     "metadata": {},
     "output_type": "execute_result"
    }
   ],
   "source": [
    "#3.Print the factorial of a number using functions.\n",
    "def factorial():\n",
    "    a=int(input(\"enter a number\"))\n",
    "    fact=1\n",
    "    if(a<0):\n",
    "        print(\"sorry please enter positive number\")\n",
    "    elif(a==0):\n",
    "        fact=1\n",
    "    else:\n",
    "        for i in range(1,a+1):\n",
    "            fact=fact*i\n",
    "        return fact\n",
    "factorial()"
   ]
  },
  {
   "cell_type": "code",
   "execution_count": 16,
   "metadata": {},
   "outputs": [
    {
     "name": "stdout",
     "output_type": "stream",
     "text": [
      "enter a number-5\n",
      "-5\n"
     ]
    }
   ],
   "source": [
    "#3.Print the factorial of a number using recursive functions.\n",
    "a=int(input(\"enter a number\"))\n",
    "def factorial(a):\n",
    "    if(a<0):\n",
    "        return a\n",
    "        if(a==0):\n",
    "            return 1\n",
    "    elif a>0:\n",
    "        return a*factorial(a-1)\n",
    "    else:\n",
    "        return a\n",
    "fact=factorial(a)\n",
    "print(fact)"
   ]
  },
  {
   "cell_type": "code",
   "execution_count": 17,
   "metadata": {},
   "outputs": [
    {
     "name": "stdout",
     "output_type": "stream",
     "text": [
      "enter a string to check palindrome or notmam\n",
      "Palindrome\n"
     ]
    }
   ],
   "source": [
    "##Palindrome using functions\n",
    "from collections import Counter\n",
    "def Palindrome():\n",
    "    p=input(\"enter a string to check palindrome or not\")\n",
    "    s=p[::-1]\n",
    "    set1=set(s.split(' '))\n",
    "    set2=set(p.split(' '))\n",
    "    if(set1==set2):\n",
    "        print(\"Palindrome\")\n",
    "    else:\n",
    "        print(\"Not a palindrome\")\n",
    "Palindrome()"
   ]
  },
  {
   "cell_type": "code",
   "execution_count": 19,
   "metadata": {},
   "outputs": [
    {
     "name": "stdout",
     "output_type": "stream",
     "text": [
      "enter string to check palindrome: mam\n"
     ]
    },
    {
     "data": {
      "text/plain": [
       "True"
      ]
     },
     "execution_count": 19,
     "metadata": {},
     "output_type": "execute_result"
    }
   ],
   "source": [
    "s=input(\"enter string to check palindrome: \")\n",
    "def palindrome(s):\n",
    "    if s==s[::-1]:\n",
    "        return True\n",
    "    else:\n",
    "        return False\n",
    "palindrome(s)"
   ]
  },
  {
   "cell_type": "code",
   "execution_count": 20,
   "metadata": {},
   "outputs": [
    {
     "name": "stdout",
     "output_type": "stream",
     "text": [
      "enter a number12345\n",
      "5\n"
     ]
    }
   ],
   "source": [
    "#Function to count the number of digits in a given number.\n",
    "num=int(input(\"enter a number\"))\n",
    "def count(num):\n",
    "    print(len(str(num)))\n",
    "count(num)"
   ]
  },
  {
   "cell_type": "code",
   "execution_count": 24,
   "metadata": {},
   "outputs": [
    {
     "name": "stdout",
     "output_type": "stream",
     "text": [
      "enter a number1: 1\n",
      "enter a number2: 2\n",
      "enter a number3: 3\n",
      "enter a number4: 4\n",
      "4 is greatest number\n"
     ]
    }
   ],
   "source": [
    "#Function to identify the freatest of 4 numbers.\n",
    "n1=int(input(\"enter a number1: \"))\n",
    "n2=int(input(\"enter a number2: \"))\n",
    "n3=int(input(\"enter a number3: \"))\n",
    "n4=int(input(\"enter a number4: \"))\n",
    "def greatest(n1,n2,n3,n4):\n",
    "    if(n1>n2 and n1>n3 and n1>n4):\n",
    "            print(n1, \"is greatest number\")\n",
    "    elif(n2>n1 and n2>n3 and n2>n4):\n",
    "            print(n2,\"is greatest number\")   \n",
    "    elif(n3>n1 and n3>n2 and n3>n4):\n",
    "            print(n3, \"is greatest number\")\n",
    "    else:\n",
    "        print(n4, \"is greatest number\")\n",
    "greatest(n1,n2,n3,n4)"
   ]
  },
  {
   "cell_type": "code",
   "execution_count": 26,
   "metadata": {},
   "outputs": [
    {
     "name": "stdout",
     "output_type": "stream",
     "text": [
      "enter a number7\n",
      "7 is not a Factor of 1000\n"
     ]
    }
   ],
   "source": [
    "# Check if the given number is a factor of 1000.\n",
    "num=int(input(\"enter a number\"))\n",
    "def isfactor(num):\n",
    "    if(1000%num==0):\n",
    "        print(num,\"is Factor of 1000\")\n",
    "    else:\n",
    "        print(num,\"is not a Factor of 1000\")\n",
    "isfactor(num)"
   ]
  },
  {
   "cell_type": "code",
   "execution_count": 28,
   "metadata": {},
   "outputs": [
    {
     "name": "stdout",
     "output_type": "stream",
     "text": [
      "enter a number4\n",
      "2.0\n"
     ]
    }
   ],
   "source": [
    "# Calculate the square of a given number.\n",
    "num=int(input(\"enter a number\"))\n",
    "def square(num):\n",
    "    print(num**0.5)\n",
    "square(num)"
   ]
  },
  {
   "cell_type": "markdown",
   "metadata": {},
   "source": [
    "### Loops/Iterations\n",
    "\n",
    "1) For Loop\n",
    "\n",
    "Tasks:\n",
    "\n",
    "    Iterate the integers from 1 to 50, for multiples of 3 print “Fizz” and for multiples of 5 print “Buzz” and for multiples of both 3 and 5 print “FizzBuzz”.\n",
    "    Program to print the multiplication table from range between 10 to 20                (Ex: 3 x 10 = 30….)\n",
    "\n",
    "2) While Loop\n",
    "\n",
    "Tasks:\n",
    "\n",
    "    Print n Natural Numbers using while loop\n",
    "    Program print n number of iterations using while loop with if statement.\n",
    "\n",
    "Example : a=1,b=1 two variables  b==4 loop terminated\n",
    "\n",
    "Problem Set:\n",
    "\n",
    "    Function to print reverse of given range in the same line\n",
    "    Function to print the odd numbers in reverse order\n",
    "    Function to calculate the sum of numbers in a range\n",
    "    Function to calculate the average of a given range (1,5) -> 3\n",
    "    Function to generate the sum of factors for a given number 12 -> 1 2 3 4 6 12\n",
    "    Function to check if a given number is Prime\n",
    "    Function to calculate the average of first N Prime numbers\n",
    "    Function to generate all Perfect numbers in a given range\n",
    "        Perfect Number - Sum of all its factors is equal to the number itself\n",
    "        6 - 1, 2, 3\n",
    "        lb, ub"
   ]
  },
  {
   "cell_type": "markdown",
   "metadata": {},
   "source": [
    "## 1.For loop"
   ]
  },
  {
   "cell_type": "markdown",
   "metadata": {},
   "source": [
    "### 1.Iterate the integers from 1 to 50, for multiples of 3 print “Fizz” and for multiples of 5 print “Buzz” and for multiples of both 3 and 5 print “FizzBuzz”."
   ]
  },
  {
   "cell_type": "code",
   "execution_count": 3,
   "metadata": {},
   "outputs": [
    {
     "name": "stdout",
     "output_type": "stream",
     "text": [
      "5 Buzz\n",
      "10 Buzz\n",
      "15 FizzBuzz\n",
      "20 Buzz\n",
      "25 Buzz\n",
      "30 FizzBuzz\n",
      "35 Buzz\n",
      "40 Buzz\n",
      "45 FizzBuzz\n",
      "50 Buzz\n"
     ]
    }
   ],
   "source": [
    "for i in range(1,51):\n",
    "    if(i%3==0 and i%5==0):\n",
    "        print(i,\"FizzBuzz\")\n",
    "    else:\n",
    "        if(i%5==0):\n",
    "            print(i,\"Buzz\")\n",
    "        elif(i%3==0 and i%5==0):\n",
    "            print(i,\"FizzBuzz\")\n",
    "    "
   ]
  },
  {
   "cell_type": "markdown",
   "metadata": {},
   "source": [
    "### 2.Program to print the multiplication table from range between 10 to 20 "
   ]
  },
  {
   "cell_type": "code",
   "execution_count": 4,
   "metadata": {},
   "outputs": [
    {
     "name": "stdout",
     "output_type": "stream",
     "text": [
      "enter a number5\n",
      "5 x 10 = 50\n",
      "5 x 11 = 55\n",
      "5 x 12 = 60\n",
      "5 x 13 = 65\n",
      "5 x 14 = 70\n",
      "5 x 15 = 75\n",
      "5 x 16 = 80\n",
      "5 x 17 = 85\n",
      "5 x 18 = 90\n",
      "5 x 19 = 95\n",
      "5 x 20 = 100\n"
     ]
    }
   ],
   "source": [
    "num=int(input(\"enter a number\"))\n",
    "for i in range(10,21):\n",
    "    c=num*i\n",
    "    print(num,\"x\",i,\"=\",c)"
   ]
  },
  {
   "cell_type": "markdown",
   "metadata": {},
   "source": [
    "## 2.While loop"
   ]
  },
  {
   "cell_type": "markdown",
   "metadata": {},
   "source": [
    "### 1.Print n Natural Numbers using while loop"
   ]
  },
  {
   "cell_type": "code",
   "execution_count": 6,
   "metadata": {},
   "outputs": [
    {
     "name": "stdout",
     "output_type": "stream",
     "text": [
      "enter range10\n",
      "1 2 3 4 5 6 7 8 9 10 "
     ]
    }
   ],
   "source": [
    "num=int(input(\"enter range\"))\n",
    "i=1\n",
    "while(i<=num):\n",
    "    print(i,end=' ')\n",
    "    i=i+1"
   ]
  },
  {
   "cell_type": "markdown",
   "metadata": {},
   "source": [
    "### 2.Program print n number of iterations using while loop with if statement"
   ]
  },
  {
   "cell_type": "code",
   "execution_count": 8,
   "metadata": {},
   "outputs": [],
   "source": [
    "# left"
   ]
  },
  {
   "cell_type": "markdown",
   "metadata": {},
   "source": [
    "# Problem set"
   ]
  },
  {
   "cell_type": "markdown",
   "metadata": {},
   "source": [
    "## 1.Function to print reverse of given range in the same line"
   ]
  },
  {
   "cell_type": "code",
   "execution_count": 2,
   "metadata": {},
   "outputs": [
    {
     "name": "stdout",
     "output_type": "stream",
     "text": [
      "enter range: 5\n",
      "5 4 3 2 1 "
     ]
    }
   ],
   "source": [
    "num=int(input(\"enter range: \"))\n",
    "for i in range(num,0,-1):\n",
    "    print(i,end=' ')"
   ]
  },
  {
   "cell_type": "markdown",
   "metadata": {},
   "source": [
    "## 2.Function to print the odd numbers in reverse order"
   ]
  },
  {
   "cell_type": "code",
   "execution_count": 3,
   "metadata": {},
   "outputs": [
    {
     "name": "stdout",
     "output_type": "stream",
     "text": [
      "enter range: 10\n",
      "9 7 5 3 1 "
     ]
    }
   ],
   "source": [
    "num=int(input(\"enter range: \"))\n",
    "for i in range(num,0,-1):\n",
    "    if(i%2!=0):\n",
    "        print(i,end=' ')"
   ]
  },
  {
   "cell_type": "markdown",
   "metadata": {},
   "source": [
    "## 3.Function to calculate the sum of numbers in a range"
   ]
  },
  {
   "cell_type": "code",
   "execution_count": 2,
   "metadata": {},
   "outputs": [
    {
     "name": "stdout",
     "output_type": "stream",
     "text": [
      "enter range: 5\n",
      "15\n"
     ]
    }
   ],
   "source": [
    "num=int(input(\"enter range: \"))\n",
    "c=0\n",
    "for i in range(1,num+1):\n",
    "        c=c+i\n",
    "print(c)"
   ]
  },
  {
   "cell_type": "markdown",
   "metadata": {},
   "source": [
    "## 4.Function to calculate the average of a given range (1,5) -> 3"
   ]
  },
  {
   "cell_type": "code",
   "execution_count": 4,
   "metadata": {},
   "outputs": [
    {
     "name": "stdout",
     "output_type": "stream",
     "text": [
      "enter lower range: 1\n",
      "enter upper range: 5\n",
      "3.0\n"
     ]
    }
   ],
   "source": [
    "n=int(input(\"enter lower range: \"))\n",
    "num=int(input(\"enter upper range: \"))\n",
    "c=0\n",
    "d=0\n",
    "for i in range(n,num+1):\n",
    "        d+=1\n",
    "        c=c+i\n",
    "print(c/d)"
   ]
  },
  {
   "cell_type": "markdown",
   "metadata": {},
   "source": [
    "## 5.Function to generate the sum of factors for a given number 12 -> 1 2 3 4 6 12"
   ]
  },
  {
   "cell_type": "code",
   "execution_count": 12,
   "metadata": {},
   "outputs": [
    {
     "name": "stdout",
     "output_type": "stream",
     "text": [
      "enter a number 12\n",
      "12\n"
     ]
    }
   ],
   "source": [
    "n=int(input(\"enter a number \"))\n",
    "c=0\n",
    "for i in range(1,n+1):\n",
    "    if(i%n==0):\n",
    "        c=c+i\n",
    "print(c)"
   ]
  },
  {
   "cell_type": "markdown",
   "metadata": {},
   "source": [
    "## 6.Function to check if a given number is Prime"
   ]
  },
  {
   "cell_type": "code",
   "execution_count": 29,
   "metadata": {},
   "outputs": [
    {
     "name": "stdout",
     "output_type": "stream",
     "text": [
      "enter a number: 4\n"
     ]
    },
    {
     "data": {
      "text/plain": [
       "False"
      ]
     },
     "execution_count": 29,
     "metadata": {},
     "output_type": "execute_result"
    }
   ],
   "source": [
    "n=int(input(\"enter a number: \"))\n",
    "def isPrime(n):\n",
    "    c=0\n",
    "    for i in range(1,n+1):\n",
    "        if(n%i==0):\n",
    "            c+=1\n",
    "    if(c==2):\n",
    "        return True\n",
    "    else:\n",
    "        return False\n",
    "isPrime(n)"
   ]
  },
  {
   "cell_type": "markdown",
   "metadata": {},
   "source": [
    "## 7.Function to calculate the average of first N Prime numbers"
   ]
  },
  {
   "cell_type": "code",
   "execution_count": 8,
   "metadata": {},
   "outputs": [
    {
     "name": "stdout",
     "output_type": "stream",
     "text": [
      "enter a number10\n",
      "0\n"
     ]
    }
   ],
   "source": [
    "upper=int(input(\"enter a number\"))\n",
    "def isPrime(n):\n",
    "    c=0\n",
    "    l=[]\n",
    "    for i in range(1,n+1):\n",
    "        if(i%n==0):\n",
    "            c+=1\n",
    "    if(c==2):\n",
    "        l.insert(i,n)\n",
    "        return l\n",
    "for num in range(1,upper+1):\n",
    "     isPrime(num)\n",
    "print(s)"
   ]
  },
  {
   "cell_type": "markdown",
   "metadata": {},
   "source": [
    "## 8.Function to generate all Perfect numbers in a given range"
   ]
  },
  {
   "cell_type": "code",
   "execution_count": null,
   "metadata": {},
   "outputs": [],
   "source": []
  },
  {
   "cell_type": "code",
   "execution_count": null,
   "metadata": {},
   "outputs": [],
   "source": []
  }
 ],
 "metadata": {
  "kernelspec": {
   "display_name": "Python 3",
   "language": "python",
   "name": "python3"
  },
  "language_info": {
   "codemirror_mode": {
    "name": "ipython",
    "version": 3
   },
   "file_extension": ".py",
   "mimetype": "text/x-python",
   "name": "python",
   "nbconvert_exporter": "python",
   "pygments_lexer": "ipython3",
   "version": "3.7.3"
  }
 },
 "nbformat": 4,
 "nbformat_minor": 2
}
